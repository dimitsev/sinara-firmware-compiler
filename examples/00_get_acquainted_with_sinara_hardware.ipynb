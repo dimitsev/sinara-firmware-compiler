{
 "cells": [
  {
   "cell_type": "code",
   "execution_count": 1,
   "id": "5ae3ab32-5815-4882-bf02-40cf5a2e2feb",
   "metadata": {},
   "outputs": [],
   "source": [
    "%load_ext autoreload\n",
    "%autoreload 2\n",
    "\n",
    "import os\n",
    "import shutil\n",
    "\n",
    "import sinara_firmware_compiler as sinara"
   ]
  },
  {
   "cell_type": "markdown",
   "id": "342cd087-dd3c-46ef-bdb6-4c74508236f7",
   "metadata": {},
   "source": [
    "# Get acquainted with the Sinara hardware classes:"
   ]
  },
  {
   "cell_type": "code",
   "execution_count": 2,
   "id": "f06f43be-22b3-4ce9-93e3-e974080df619",
   "metadata": {},
   "outputs": [
    {
     "data": {
      "text/plain": [
       "{'type': 'urukul',\n",
       " 'dds': 'ad9910',\n",
       " 'hw_rev': 'v1.5',\n",
       " 'ports': [0, 1],\n",
       " 'synchronization': True,\n",
       " 'clk_sel': 2}"
      ]
     },
     "execution_count": 2,
     "metadata": {},
     "output_type": "execute_result"
    }
   ],
   "source": [
    "sinara.urukul(\n",
    "    ports = [0, 1],\n",
    "    dds   = \"ad9910\",\n",
    ").dict"
   ]
  },
  {
   "cell_type": "code",
   "execution_count": 3,
   "id": "a6b624a2-1009-4375-9207-396ca2ed8aad",
   "metadata": {},
   "outputs": [
    {
     "data": {
      "text/plain": [
       "{'target': 'kasli_soc',\n",
       " 'hw_rev': 'v1.1',\n",
       " 'base': 'use_drtio_role',\n",
       " 'drtio_role': 'satellite',\n",
       " 'enable_wrpll': True,\n",
       " 'sed_lanes': 32,\n",
       " 'min_artiq_version': '8.0',\n",
       " 'core_addr': '10.0.0.50',\n",
       " 'variant': 'crate_SOME_CRATE_kasli_soc_v1.1_artiq_zynq_release-8_aaa_drtio_satellite_wrpll_True_sed_32_periph_urukul_6_addr_10.0.0.50',\n",
       " 'peripherals': [{'type': 'urukul',\n",
       "   'dds': 'ad9910',\n",
       "   'hw_rev': 'v1.5',\n",
       "   'ports': [0, 1],\n",
       "   'synchronization': True,\n",
       "   'clk_sel': 2},\n",
       "  {'type': 'urukul',\n",
       "   'dds': 'ad9910',\n",
       "   'hw_rev': 'v1.5',\n",
       "   'ports': [2, 3],\n",
       "   'synchronization': True,\n",
       "   'clk_sel': 2},\n",
       "  {'type': 'urukul',\n",
       "   'dds': 'ad9910',\n",
       "   'hw_rev': 'v1.5',\n",
       "   'ports': [4, 5],\n",
       "   'synchronization': True,\n",
       "   'clk_sel': 2},\n",
       "  {'type': 'urukul',\n",
       "   'dds': 'ad9910',\n",
       "   'hw_rev': 'v1.5',\n",
       "   'ports': [6, 7],\n",
       "   'synchronization': True,\n",
       "   'clk_sel': 2},\n",
       "  {'type': 'urukul',\n",
       "   'dds': 'ad9910',\n",
       "   'hw_rev': 'v1.5',\n",
       "   'ports': [8, 9],\n",
       "   'synchronization': True,\n",
       "   'clk_sel': 2},\n",
       "  {'type': 'urukul',\n",
       "   'dds': 'ad9910',\n",
       "   'hw_rev': 'v1.5',\n",
       "   'ports': [10, 11],\n",
       "   'synchronization': True,\n",
       "   'clk_sel': 2}]}"
      ]
     },
     "execution_count": 3,
     "metadata": {},
     "output_type": "execute_result"
    }
   ],
   "source": [
    "k = sinara.kasli_soc(\n",
    "    crate_id     = \"SOME_CRATE\",\n",
    "    drtio_role   = \"satellite\",\n",
    "    sed_lanes    = 32,\n",
    "    enable_wrpll = True,\n",
    "    core_addr    = \"10.0.0.50\",\n",
    "    peripherals  = [sinara.urukul(\n",
    "        ports = [port, port+1],\n",
    "        dds   = \"ad9910\",\n",
    "    ) for port in range(0,12,2)],\n",
    "    artiq_zynq_branch = \"release-8\",\n",
    "    artiq_zynq_commit = \"aaa\",\n",
    ")\n",
    "k.dict"
   ]
  },
  {
   "cell_type": "markdown",
   "id": "7d327153-9160-40bb-88de-6b67f030278a",
   "metadata": {},
   "source": [
    "# Example of single system description file in current folder:"
   ]
  },
  {
   "cell_type": "code",
   "execution_count": 4,
   "id": "edab6db3-9ea9-40a0-b128-f03cbf360310",
   "metadata": {},
   "outputs": [
    {
     "name": "stdout",
     "output_type": "stream",
     "text": [
      "Wrote to: /opt/m1/workspace/sinara-firmware-compiler/examples/crate_SOME_CRATE_kasli_soc_v1.1_artiq_zynq_release-8_aaa_drtio_satellite_wrpll_True_sed_32_periph_urukul_6_addr_10.0.0.50/crate_SOME_CRATE_kasli_soc_v1.1_artiq_zynq_release-8_aaa_drtio_satellite_wrpll_True_sed_32_periph_urukul_6_addr_10.0.0.50.json\n",
      "Wrote to: /opt/m1/workspace/sinara-firmware-compiler/examples/crate_SOME_CRATE_kasli_soc_v1.1_artiq_zynq_release-8_aaa_drtio_satellite_wrpll_True_sed_32_periph_urukul_6_addr_10.0.0.50/build_info.json\n"
     ]
    }
   ],
   "source": [
    "output_folder_path = os.path.realpath(\".\", strict=True)\n",
    "\n",
    "json_folder_path = os.path.join(output_folder_path, k.variant)\n",
    "os.makedirs(json_folder_path)\n",
    "json_file_name = k.variant + \".json\"\n",
    "json_file_path = os.path.join(json_folder_path, json_file_name)\n",
    "k.to_json(\n",
    "    json_file_path = json_file_path,\n",
    "    verbose        = True,\n",
    ")"
   ]
  },
  {
   "cell_type": "code",
   "execution_count": 5,
   "id": "02a3346f-844c-4ce2-9e03-a13c781776b7",
   "metadata": {},
   "outputs": [],
   "source": [
    "shutil.rmtree(json_folder_path)"
   ]
  },
  {
   "cell_type": "code",
   "execution_count": null,
   "id": "6e48be62-0636-4dc9-814d-abbb41585d4f",
   "metadata": {},
   "outputs": [],
   "source": []
  }
 ],
 "metadata": {
  "kernelspec": {
   "display_name": "Python 3 (ipykernel)",
   "language": "python",
   "name": "python3"
  },
  "language_info": {
   "codemirror_mode": {
    "name": "ipython",
    "version": 3
   },
   "file_extension": ".py",
   "mimetype": "text/x-python",
   "name": "python",
   "nbconvert_exporter": "python",
   "pygments_lexer": "ipython3",
   "version": "3.11.11"
  }
 },
 "nbformat": 4,
 "nbformat_minor": 5
}
