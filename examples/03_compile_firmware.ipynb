{
 "cells": [
  {
   "cell_type": "code",
   "execution_count": 1,
   "id": "748931e9-2459-4bab-93fe-f795926f9b10",
   "metadata": {},
   "outputs": [],
   "source": [
    "%load_ext autoreload\n",
    "%autoreload 2\n",
    "\n",
    "import os\n",
    "import subprocess\n",
    "import pprint\n",
    "\n",
    "import sinara_firmware_compiler as sinara"
   ]
  },
  {
   "cell_type": "code",
   "execution_count": 2,
   "id": "b4dde537-a5d0-4f32-91ad-ead0eb9a0781",
   "metadata": {},
   "outputs": [],
   "source": [
    "output_folder_path = os.path.abspath(\"system_description_files\")\n",
    "to_compile_file = os.path.join(output_folder_path, \"to_compile.txt\")\n",
    "\n",
    "json_file_paths = {}\n",
    "with open(to_compile_file, \"r\") as file:\n",
    "    json_file_paths = [line.strip() for line in file.readlines() if line.strip()]\n",
    "\n",
    "# print(json_file_paths)"
   ]
  },
  {
   "cell_type": "code",
   "execution_count": 3,
   "id": "b58cdb24-f92b-47c3-917e-d2f10835d620",
   "metadata": {},
   "outputs": [
    {
     "name": "stdout",
     "output_type": "stream",
     "text": [
      "--impure --expr '\n",
      "    let\n",
      "        fl = builtins.getFlake \"/opt/m1/workspace/artiq-zynq-original-untouched\";\n",
      "    in\n",
      "        (fl.makeArtiqZynqPackage {\n",
      "            target  = \"kasli_soc\";\n",
      "            variant = \"satellite\";\n",
      "            json    = \"/opt/m1/workspace/sinara-firmware-compiler/examples/system_description_files/crate_mqva_dds2_kasli_soc_v1.1_artiq_zynq_master_63157588bb8ed214bc9f24ade2d09b4ddefada03_drtio_satellite_wrpll_True_sed_32_periph_urukul_6_addr_10.0.0.50/crate_mqva_dds2_kasli_soc_v1.1_artiq_zynq_master_63157588bb8ed214bc9f24ade2d09b4ddefada03_drtio_satellite_wrpll_True_sed_32_periph_urukul_6_addr_10.0.0.50.json\";\n",
      "        }).kasli_soc-satellite-sd\n",
      "'\n"
     ]
    }
   ],
   "source": [
    "import json\n",
    "\n",
    "artiq_zynq_path = \"/opt/m1/workspace/artiq-zynq-original-untouched\"\n",
    "\n",
    "build_expr = sinara.nix_build_expression_kasli_soc(artiq_zynq_path, json_file_paths[2])\n",
    "print(build_expr)"
   ]
  },
  {
   "cell_type": "code",
   "execution_count": 4,
   "id": "16174773-083b-4135-b4e6-e958291979a6",
   "metadata": {},
   "outputs": [
    {
     "data": {
      "text/plain": [
       "{'firmware.drv': '/nix/store/6ybs8531nqvjrdlkq5q6xclcdb873svw-firmware.drv',\n",
       " 'gateware.drv': '/nix/store/mchbwdklzcv15baral88k3z3nny6ljgz-kasli_soc-satellite-gateware.drv',\n",
       " 'sd.drv': '/nix/store/z4nxkw5dqc4w6r7zi2hhj3v4hbfpqvn5-kasli_soc-satellite-sd.drv',\n",
       " 'firmware': '/nix/store/ciycmqawxqncvlfa5k3fsh4j6s895n7z-firmware',\n",
       " 'gateware': '/nix/store/5rdhvajv6zgsmg7y6ygam0y6a07pacav-kasli_soc-satellite-gateware',\n",
       " 'sd': '/nix/store/xmy12b3fhricvqq32kb27vbywrfhq99n-kasli_soc-satellite-sd'}"
      ]
     },
     "execution_count": 4,
     "metadata": {},
     "output_type": "execute_result"
    }
   ],
   "source": [
    "d = sinara.get_nix_derivations_and_outputs(artiq_zynq_path, json_file_paths[2])\n",
    "d"
   ]
  },
  {
   "cell_type": "markdown",
   "id": "87d005d5-6ca3-46bc-952b-7877c56d4f9d",
   "metadata": {},
   "source": [
    "# Do not run firmware compilations in jupyter or via simple ssh! Run them as a python script in a tmux session.\n",
    "\n",
    "See `run_compilation.py` in the current folder."
   ]
  },
  {
   "cell_type": "code",
   "execution_count": 5,
   "id": "6b59c21c-7842-4025-a8bc-fdc31c83a471",
   "metadata": {},
   "outputs": [],
   "source": [
    "# for json_file_path in json_file_paths:\n",
    "#     sinara.run_firmware_compilation(artiq_zynq_path, json_file_path)"
   ]
  },
  {
   "cell_type": "code",
   "execution_count": null,
   "id": "7298c1bb-c453-4813-bf10-52208b6d36d6",
   "metadata": {},
   "outputs": [],
   "source": []
  },
  {
   "cell_type": "code",
   "execution_count": null,
   "id": "07bc3278-9a2f-43b1-af15-ce77da7ad00d",
   "metadata": {},
   "outputs": [],
   "source": []
  },
  {
   "cell_type": "code",
   "execution_count": null,
   "id": "75912e07-effc-46a8-85d0-3b3b6e0cbbc0",
   "metadata": {},
   "outputs": [],
   "source": []
  }
 ],
 "metadata": {
  "kernelspec": {
   "display_name": "Python 3 (ipykernel)",
   "language": "python",
   "name": "python3"
  },
  "language_info": {
   "codemirror_mode": {
    "name": "ipython",
    "version": 3
   },
   "file_extension": ".py",
   "mimetype": "text/x-python",
   "name": "python",
   "nbconvert_exporter": "python",
   "pygments_lexer": "ipython3",
   "version": "3.11.11"
  }
 },
 "nbformat": 4,
 "nbformat_minor": 5
}
