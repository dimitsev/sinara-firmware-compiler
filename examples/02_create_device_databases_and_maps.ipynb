{
 "cells": [
  {
   "cell_type": "code",
   "execution_count": 1,
   "id": "e966963e-77d2-4ef0-a8ec-7e384738cce6",
   "metadata": {},
   "outputs": [],
   "source": [
    "%load_ext autoreload\n",
    "%autoreload 2\n",
    "\n",
    "import os\n",
    "import shutil\n",
    "import pandas as pd\n",
    "\n",
    "import sinara_firmware_compiler as sinara"
   ]
  },
  {
   "cell_type": "code",
   "execution_count": 2,
   "id": "19b42735-e5f5-4e1f-90f0-9545d145a244",
   "metadata": {},
   "outputs": [],
   "source": [
    "artiq_path = \"/opt/m1/workspace/artiq-original-untouched\"\n",
    "output_folder_path = os.path.realpath(\"system_description_files\", strict=False)\n",
    "to_device_db_file_path = os.path.join(output_folder_path, \"to_device_db.txt\")\n",
    "\n",
    "sinara.make_device_dbs_and_dev_maps(to_device_db_file_path, artiq_path)"
   ]
  },
  {
   "cell_type": "code",
   "execution_count": null,
   "id": "a85ccf4b-c626-44d8-82f8-0ee5a22a3277",
   "metadata": {},
   "outputs": [],
   "source": []
  },
  {
   "cell_type": "code",
   "execution_count": null,
   "id": "5a56d576-aae9-4b32-aa6b-d9affefacb04",
   "metadata": {},
   "outputs": [],
   "source": []
  },
  {
   "cell_type": "code",
   "execution_count": null,
   "id": "026f5245-5083-4783-9f56-292035f470f3",
   "metadata": {},
   "outputs": [],
   "source": []
  }
 ],
 "metadata": {
  "kernelspec": {
   "display_name": "Python 3 (ipykernel)",
   "language": "python",
   "name": "python3"
  },
  "language_info": {
   "codemirror_mode": {
    "name": "ipython",
    "version": 3
   },
   "file_extension": ".py",
   "mimetype": "text/x-python",
   "name": "python",
   "nbconvert_exporter": "python",
   "pygments_lexer": "ipython3",
   "version": "3.11.11"
  }
 },
 "nbformat": 4,
 "nbformat_minor": 5
}
